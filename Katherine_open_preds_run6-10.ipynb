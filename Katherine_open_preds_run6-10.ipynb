{
 "cells": [
  {
   "cell_type": "code",
   "execution_count": 10,
   "metadata": {},
   "outputs": [
    {
     "name": "stdout",
     "output_type": "stream",
     "text": [
      "./xdc_runs/center_out_sup_run10/BEIG0414b_preds.npy\n",
      "dict_keys(['train_split', 'test_split', 'true_train', 'pred_train', 'true_test', 'pred_test'])\n",
      "10 (2, 10, 446) (2, 10, 49)\n",
      "2 modalities, 10 folds\n"
     ]
    }
   ],
   "source": [
    "import os\n",
    "import numpy as np\n",
    "import pandas as pd\n",
    "import matplotlib.pyplot as plt\n",
    "import xarray as xr\n",
    "from scipy.optimize import linear_sum_assignment\n",
    "\n",
    "# load data\n",
    "lp = '/data2/users/kperks/'\n",
    "sp = 'ecog_center_out/'\n",
    "input_file = 'prep_data_lfp_posvel.npy'\n",
    "\n",
    "data = np.load(lp+input_file, allow_pickle=True)\n",
    "data = data.item()\n",
    "ecog = data['lfp']\n",
    "pose = data['mocap']\n",
    "recording_day = data['events']\n",
    "times = data['time']\n",
    "\n",
    "labels = ecog[:,-1,0]\n",
    "assert (labels == pose[:,-1,0]).all()\n",
    "n_targets = len(np.unique(labels))\n",
    "\n",
    "# load model predictions\n",
    "rootpth = './xdc_runs/'\n",
    "dat_type = 'test' # 'train', test'\n",
    "dataset = 'center_out'\n",
    "sbjs_all = ['BEIG0414b']\n",
    "subfolders_d = {'center_out': ['center_out_sup_run10']}\n",
    "datasets = [dataset]\n",
    "\n",
    "for i, dst in enumerate(datasets):\n",
    "    subfolders = subfolders_d[dst]\n",
    "    for i, fold in enumerate(subfolders):\n",
    "        for j, sbj in enumerate(sbjs_all):\n",
    "            fID = rootpth + fold + '/' +sbj + '_preds' + '.npy'\n",
    "            if os.path.exists(fID):\n",
    "                print(fID)\n",
    "                preds_data = np.load(fID,allow_pickle=True).item()\n",
    "            else:\n",
    "                preds_data = None\n",
    "        print(preds_data.keys())\n",
    "\n",
    "train_inds = preds_data['train_split']\n",
    "test_inds = preds_data['test_split']\n",
    "train_true = preds_data['true_train']\n",
    "train_pred = preds_data['pred_train']\n",
    "test_true = preds_data['true_test']\n",
    "test_pred = preds_data['pred_test']\n",
    "print(len(train_inds), train_true.shape, test_true.shape)\n",
    "\n",
    "assert train_true.shape[0] == test_true.shape[0]\n",
    "n_modalities = train_true.shape[0]\n",
    "assert len(train_inds) == len(test_inds) == train_true.shape[1] == test_true.shape[1]\n",
    "n_folds = len(train_inds)\n",
    "print(n_modalities, 'modalities,', n_folds, 'folds')"
   ]
  },
  {
   "cell_type": "code",
   "execution_count": 11,
   "metadata": {},
   "outputs": [
    {
     "name": "stdout",
     "output_type": "stream",
     "text": [
      "pred: [0 1 2 3 4 5 6 7] true: [0 1 2 3 4 5 6 7]\n",
      "pred: [0 1 2 3 4 5 6 7] true: [0 1 2 3 4 5 6 7]\n",
      "pred: [0 1 2 3 4 5 6 7] true: [0 1 2 3 4 5 6 7]\n",
      "pred: [0 1 2 3 4 5 6 7] true: [0 1 2 3 4 5 6 7]\n",
      "pred: [0 1 2 3 4 5 6 7] true: [0 1 2 3 4 5 6 7]\n",
      "pred: [0 1 2 3 4 5 6 7] true: [0 1 2 3 4 5 6 7]\n",
      "pred: [0 1 2 3 4 5 6 7] true: [0 1 2 3 4 5 6 7]\n",
      "pred: [0 1 2 3 4 5 6 7] true: [0 1 2 3 4 5 6 7]\n",
      "pred: [0 1 2 3 4 5 6 7] true: [0 1 2 3 4 5 6 7]\n",
      "pred: [0 1 2 3 4 5 6 7] true: [0 1 2 3 4 5 6 7]\n",
      "[[0.78809524 0.         0.         0.         0.07619048 0.\n",
      "  0.         0.        ]\n",
      " [0.         0.56666667 0.         0.07857143 0.         0.04285714\n",
      "  0.01428571 0.13571429]\n",
      " [0.         0.         0.75238095 0.         0.         0.\n",
      "  0.21428571 0.        ]\n",
      " [0.         0.16666667 0.         0.8047619  0.         0.12142857\n",
      "  0.01428571 0.01428571]\n",
      " [0.12619048 0.         0.         0.         0.84047619 0.\n",
      "  0.         0.        ]\n",
      " [0.         0.06190476 0.         0.         0.         0.4\n",
      "  0.02857143 0.1       ]\n",
      " [0.         0.         0.15952381 0.         0.         0.\n",
      "  0.65714286 0.        ]\n",
      " [0.         0.13571429 0.         0.01666667 0.         0.36904762\n",
      "  0.         0.66428571]]\n"
     ]
    }
   ],
   "source": [
    "# get matrix of true vs. predicted labels\n",
    "w_allfolds = np.zeros((n_folds, n_targets, n_targets)) # fold x pred x true\n",
    "\n",
    "j = 1 # modality [neural, pose]\n",
    "for i in range(n_folds):\n",
    "    train_true_curr = train_true[j,i,:]\n",
    "    train_pred_curr = train_pred[j,i,:]\n",
    "    test_true_curr = test_true[j,i,:]\n",
    "    test_pred_curr = test_pred[j,i,:]\n",
    "    \n",
    "    ind, D = None, None\n",
    "    if dat_type == 'train':       \n",
    "        y_true = np.asarray(train_true_curr)\n",
    "        y_pred = np.asarray(train_pred_curr) \n",
    "        y_true = y_true.astype(np.int64)\n",
    "        y_pred = y_pred.astype(np.int64)\n",
    "    elif dat_type == 'test':\n",
    "        # get train mapping \n",
    "        y_true = np.asarray(train_true_curr)\n",
    "        y_pred = np.asarray(train_pred_curr)\n",
    "        y_true = y_true.astype(np.int64)\n",
    "        y_pred = y_pred.astype(np.int64)\n",
    "        assert y_pred.size == y_true.size\n",
    "        if not D:\n",
    "            D = max(y_pred.max(), y_true.max()) + 1\n",
    "            D = int(D)\n",
    "        w = np.zeros((D, D), dtype=np.int64)\n",
    "        for t in range(y_pred.size):\n",
    "            w[y_pred[t], y_true[t]] += 1\n",
    "        if not ind:\n",
    "            ind = linear_sum_assignment(w.max() - w)\n",
    "\n",
    "        # use train mapping to get test accuracy\n",
    "        y_true = np.asarray(test_true_curr)\n",
    "        y_pred = np.asarray(test_pred_curr)\n",
    "        y_true = y_true.astype(np.int64)\n",
    "        y_pred = y_pred.astype(np.int64)\n",
    "    \n",
    "    assert y_pred.size == y_true.size\n",
    "    if not D:\n",
    "        D = max(y_pred.max(), y_true.max()) + 1\n",
    "        D = int(D)\n",
    "    w = np.zeros((D, D), dtype=np.int64)\n",
    "    for t in range(y_pred.size):\n",
    "        w[y_pred[t], y_true[t]] += 1\n",
    "    if not ind:\n",
    "        ind = linear_sum_assignment(w.max() - w)\n",
    "    print('pred:',ind[0],'true:',ind[1])\n",
    "\n",
    "    acc = w[ind[0], ind[1]].sum()* 1.0 / y_pred.size\n",
    "    w_allfolds[i] = w/w.max() # proportion per fold\n",
    "    # print(acc)\n",
    "    # print(w)\n",
    "    # print(ind)\n",
    "    # print(w[ind[0], ind[1]])\n",
    "\n",
    "w_avg = w_allfolds.mean(0) # average proportion over folds\n",
    "print(w_avg)\n"
   ]
  },
  {
   "cell_type": "code",
   "execution_count": 12,
   "metadata": {},
   "outputs": [
    {
     "data": {
      "image/png": "[encoded data removed]",
      "text/plain": [
       "<Figure size 720x576 with 2 Axes>"
      ]
     },
     "metadata": {
      "needs_background": "light"
     },
     "output_type": "display_data"
    }
   ],
   "source": [
    "# plot true vs. predicted labels\n",
    "import seaborn as sns\n",
    "sz = 24\n",
    "\n",
    "plt.figure(figsize=(10,8))\n",
    "ax = sns.heatmap(w_avg, vmin=0, vmax=1, cmap='PRGn')\n",
    "plt.xlabel('True', fontsize=44)\n",
    "plt.ylabel('Predicted', fontsize=44)\n",
    "plt.xticks(np.arange(n_targets)+0.5, range(1,9), fontsize=sz)\n",
    "plt.yticks(np.arange(n_targets)+0.5, range(1,9), fontsize=sz, rotation=0);\n",
    "cbar = ax.collections[0].colorbar\n",
    "cbar.ax.tick_params(labelsize=sz)\n",
    "# plt.savefig('xdc_runs/figs/'+subfolders[0][11:]+'_'+dat_type+'_pred_heatmap.png')"
   ]
  },
  {
   "cell_type": "code",
   "execution_count": 13,
   "metadata": {},
   "outputs": [
    {
     "name": "stdout",
     "output_type": "stream",
     "text": [
      "expected 0\n",
      "got [0. 0. 0. 4. 4. 0. 0. 0. 0. 0. 0. 0. 0. 0. 0. 0. 0. 0. 0. 0. 0. 0. 0. 4.\n",
      " 0. 0. 0. 0. 0. 0. 0. 0. 0. 0. 0. 0. 0. 0. 0. 0. 4. 0. 0. 4. 0. 0. 0. 0.\n",
      " 0. 0. 0. 0. 0. 0. 0. 0.]\n",
      "\n",
      "expected 1\n",
      "got [1. 1. 1. 1. 1. 7. 3. 1. 1. 1. 1. 1. 1. 1. 3. 1. 3. 1. 1. 3. 1. 1. 1. 1.\n",
      " 3. 1. 1. 1. 1. 1. 1. 1. 1. 5. 1. 1. 1. 7. 1. 7. 1. 1. 1. 3. 7. 3. 5. 3.\n",
      " 1. 1. 1. 1. 1. 1. 3. 1.]\n",
      "\n",
      "expected 2\n",
      "got [2. 2. 2. 2. 2. 2. 2. 2. 2. 2. 2. 2. 2. 2. 2. 2. 2. 2. 2. 2. 2. 2. 2. 2.\n",
      " 2. 2. 2. 2. 2. 2. 2. 2. 2. 2. 2. 2. 2. 2. 2. 2. 2. 2. 2. 2. 2. 2. 2. 2.\n",
      " 2. 2. 2. 2. 2. 2. 2. 2.]\n",
      "\n",
      "expected 3\n",
      "got [3. 3. 3. 3. 3. 1. 3. 3. 3. 3. 3. 3. 3. 3. 3. 3. 3. 3. 3. 3. 3. 3. 3. 1.\n",
      " 3. 3. 3. 3. 3. 3. 3. 3. 3. 3. 3. 3. 3. 3. 3. 3. 3. 3. 3. 3. 3. 3. 3. 3.\n",
      " 3. 3. 3. 3. 3. 3. 3. 3.]\n",
      "\n",
      "expected 4\n",
      "got [4. 4. 4. 4. 4. 4. 4. 4. 4. 4. 4. 4. 4. 4. 4. 4. 4. 4. 4. 4. 4. 4. 4. 4.\n",
      " 4. 4. 0. 4. 4. 4. 4. 4. 4. 4. 4. 4. 4. 4. 4. 4. 4. 4. 4. 4. 4. 4. 0. 4.\n",
      " 4. 4. 4. 4. 4. 4. 4. 4.]\n",
      "\n",
      "expected 5\n",
      "got [5. 5. 5. 5. 5. 5. 5. 5. 5. 5. 5. 5. 5. 5. 5. 5. 5. 5. 3. 5. 5. 5. 5. 5.\n",
      " 5. 5. 5. 5. 5. 5. 5. 5. 5. 3. 5. 7. 5. 1. 5. 5. 5. 5. 3. 5. 5. 5. 5. 5.\n",
      " 5. 5. 5. 7. 5. 1. 5.]\n",
      "\n",
      "expected 6\n",
      "got [2. 2. 1. 2. 2. 2. 2. 2. 2. 2. 2. 2. 2. 2. 2. 6. 2. 2. 2. 2. 2. 5. 2. 2.\n",
      " 2. 2. 2. 2. 2. 2. 2. 2. 2. 2. 2. 2. 2. 2. 2. 6. 2. 2. 2. 2. 2. 2. 2. 2.\n",
      " 2. 2. 2. 2. 2. 2. 2. 2.]\n",
      "\n",
      "expected 7\n",
      "got [7. 7. 7. 7. 7. 7. 7. 7. 7. 7. 5. 7. 7. 7. 7. 7. 7. 7. 7. 7. 7. 1. 7. 7.\n",
      " 7. 5. 7. 7. 1. 5. 7. 7. 7. 7. 5. 7. 7. 7. 1. 7. 1. 7. 5. 7. 7. 7. 7. 7.\n",
      " 7. 7. 7. 7. 1. 7. 7.]\n",
      "\n"
     ]
    }
   ],
   "source": [
    "# list true vs. predicted labels\n",
    "for i in range(n_targets):\n",
    "    print('expected', ind[1][i])\n",
    "    print('got', train_pred_curr[np.where(train_true_curr == i)])\n",
    "    print('')"
   ]
  },
  {
   "cell_type": "markdown",
   "metadata": {},
   "source": [
    "# Old Code - supervised model only"
   ]
  },
  {
   "cell_type": "code",
   "execution_count": 7,
   "metadata": {},
   "outputs": [
    {
     "name": "stdout",
     "output_type": "stream",
     "text": [
      "train acc: 0.7443946188340808\n",
      "test acc: 0.6938775510204082\n"
     ]
    },
    {
     "data": {
      "image/png": "[encoded data removed]",
      "text/plain": [
       "<Figure size 432x288 with 1 Axes>"
      ]
     },
     "metadata": {
      "needs_background": "light"
     },
     "output_type": "display_data"
    },
    {
     "data": {
      "image/png": "[encoded data removed]",
      "text/plain": [
       "<Figure size 432x288 with 1 Axes>"
      ]
     },
     "metadata": {
      "needs_background": "light"
     },
     "output_type": "display_data"
    }
   ],
   "source": [
    "# ONLY WORKS FOR SUPERVISED MODEL WITH 1-1 MAPPING\n",
    "j = 1 # modality [neural, pose]\n",
    "i = 0 # fold\n",
    "train_inds_curr = train_inds[i]\n",
    "test_inds_curr = test_inds[i]\n",
    "train_true_curr = train_true[j,i,:]\n",
    "train_pred_curr = train_pred[j,i,:]\n",
    "test_true_curr = test_true[j,i,:]\n",
    "test_pred_curr = test_pred[j,i,:]\n",
    "\n",
    "print('train acc:', len(np.where(train_true_curr == train_pred_curr)[0])/446)\n",
    "print('test acc:', len(np.where(test_true_curr == test_pred_curr)[0])/49)\n",
    "\n",
    "plt.figure()\n",
    "plt.plot(train_true_curr,'o')\n",
    "plt.plot(train_pred_curr,'o',alpha=.7)\n",
    "plt.title('Train - true (blue) vs. pred (orange) labels');\n",
    "\n",
    "plt.figure()\n",
    "plt.plot(test_true_curr,'o')\n",
    "plt.plot(test_pred_curr,'o',alpha=.7)\n",
    "plt.title('Test - true (blue) vs. pred (orange) labels');"
   ]
  },
  {
   "cell_type": "code",
   "execution_count": 8,
   "metadata": {},
   "outputs": [
    {
     "name": "stdout",
     "output_type": "stream",
     "text": [
      "expected 0\n",
      "got [0. 0. 0. 0. 0. 4. 0. 0. 0. 0. 4. 0. 0. 0. 0. 0. 0. 4. 0. 4. 0. 0. 0. 0.\n",
      " 0. 0. 0. 0. 0. 4. 0. 0. 0. 0. 0. 0. 0. 0. 0. 0. 0. 4. 0. 0. 0. 0. 0. 0.\n",
      " 0. 0. 0. 0. 0. 0. 0.]\n",
      "\n",
      "expected 1\n",
      "got [1. 1. 1. 1. 3. 1. 1. 1. 1. 1. 7. 1. 1. 1. 1. 1. 1. 3. 1. 3. 1. 1. 1. 1.\n",
      " 1. 1. 1. 1. 1. 1. 3. 1. 7. 1. 1. 1. 5. 1. 1. 7. 1. 7. 5. 3. 1. 1. 1. 1.\n",
      " 1. 3. 1. 1. 1. 1. 1. 1.]\n",
      "\n",
      "expected 2\n",
      "got [6. 6. 6. 6. 6. 6. 3. 6. 6. 6. 6. 6. 6. 6. 6. 6. 6. 6. 6. 6. 6. 6. 6. 3.\n",
      " 6. 3. 6. 6. 6. 6. 6. 6. 6. 6. 6. 6. 6. 6. 6. 6. 6. 6. 6. 6. 6. 6. 6. 6.\n",
      " 3. 6. 6. 6. 6. 6. 6. 6.]\n",
      "\n",
      "expected 3\n",
      "got [7. 3. 3. 3. 3. 3. 3. 3. 3. 3. 3. 3. 3. 3. 3. 3. 3. 3. 3. 3. 3. 3. 3. 3.\n",
      " 3. 3. 3. 3. 3. 3. 3. 3. 3. 3. 1. 3. 3. 3. 3. 3. 3. 3. 3. 3. 3. 3. 3. 3.\n",
      " 3. 3. 3. 3. 3. 3. 3. 3.]\n",
      "\n",
      "expected 4\n",
      "got [4. 4. 4. 4. 4. 4. 4. 4. 0. 4. 4. 4. 4. 4. 4. 4. 4. 4. 4. 4. 4. 4. 4. 4.\n",
      " 4. 4. 4. 4. 4. 4. 4. 0. 4. 4. 4. 4. 4. 4. 4. 4. 4. 4. 4. 4. 4. 4. 4. 4.\n",
      " 4. 4. 4. 4. 4. 4. 4. 4.]\n",
      "\n",
      "expected 5\n",
      "got [5. 5. 5. 5. 5. 3. 7. 5. 5. 1. 1. 5. 5. 5. 3. 5. 1. 7. 5. 7. 7. 5. 7. 1.\n",
      " 5. 5. 5. 3. 1. 5. 7. 5. 7. 7. 5. 5. 3. 5. 7. 3. 5. 5. 5. 1. 5. 1. 5. 5.\n",
      " 7. 5. 7. 3. 5. 3. 3. 7.]\n",
      "\n",
      "expected 6\n",
      "got [6. 6. 6. 6. 6. 6. 6. 6. 6. 6. 6. 6. 6. 6. 6. 6. 6. 6. 6. 6. 6. 6. 6. 6.\n",
      " 6. 6. 6. 6. 6. 6. 6. 6. 6. 6. 6. 6. 6. 6. 6. 6. 6. 6. 6. 6. 6. 6. 6. 6.\n",
      " 6. 6. 6. 6. 6. 6. 6.]\n",
      "\n",
      "expected 7\n",
      "got [7. 7. 7. 5. 7. 7. 7. 7. 7. 7. 7. 7. 7. 7. 7. 1. 7. 7. 7. 7. 7. 7. 7. 7.\n",
      " 1. 7. 7. 7. 5. 7. 7. 7. 7. 5. 5. 7. 7. 7. 7. 7. 7. 3. 7. 7. 7. 7. 1. 7.\n",
      " 7. 7. 7. 7. 1. 7. 7. 7.]\n",
      "\n"
     ]
    }
   ],
   "source": [
    "for i in range(n_targets):\n",
    "    print('expected', i)\n",
    "    print('got', train_pred_curr[np.where(train_true_curr == i)])\n",
    "    print('')"
   ]
  },
  {
   "cell_type": "code",
   "execution_count": 9,
   "metadata": {},
   "outputs": [
    {
     "name": "stdout",
     "output_type": "stream",
     "text": [
      "[[0.88183857 0.4122449 ]\n",
      " [0.81165919 0.74693878]]\n",
      "\n",
      "[[0.88430493 0.4244898 ]\n",
      " [0.89910314 0.84285714]]\n"
     ]
    }
   ],
   "source": [
    "# ONLY WORKS FOR SUPERVISED MODEL WITH 1-1 MAPPING\n",
    "acc = np.zeros((n_modalities, n_folds, 2)) # n_modalities x n_folds x [train, val]\n",
    "acc_alt = acc.copy()\n",
    "\n",
    "for j in range(n_modalities):\n",
    "    for i in range(n_folds):\n",
    "        train_true_curr = train_true[j,i,:]\n",
    "        train_pred_curr = train_pred[j,i,:]\n",
    "        test_true_curr = test_true[j,i,:]\n",
    "        test_pred_curr = test_pred[j,i,:]\n",
    "\n",
    "        # compute accuracy for target (e.g. if true = 1, then pred = 1 is considered accurate)\n",
    "        acc[j,i,0] = len(np.where(train_true_curr == train_pred_curr)[0]) / 446\n",
    "        acc[j,i,1] = len(np.where(test_true_curr == test_pred_curr)[0]) / 49\n",
    "\n",
    "        train_true_alt1 = train_true_curr.copy()\n",
    "        train_true_alt2 = train_true_curr.copy()\n",
    "        test_true_alt1 = test_true_curr.copy()\n",
    "        test_true_alt2 = test_true_curr.copy()\n",
    "        for t in range(int(n_targets/2)):\n",
    "            train_true_alt1[np.where(train_true_curr == t + 4)[0]] = t\n",
    "            train_true_alt2[np.where(train_true_curr == t)[0]] = t + 4\n",
    "            test_true_alt1[np.where(test_true_curr == t + 4)[0]] = t\n",
    "            test_true_alt2[np.where(test_true_curr == t)[0]] = t + 4\n",
    "        \n",
    "        # compute accuracy for either target or its complement (e.g. if true = 1, then pred = 1 or 5 is considered accurate)\n",
    "        acc_alt[j,i,0] = (len(np.where(train_true_alt1 == train_pred_curr)[0]) + len(np.where(train_true_alt2 == train_pred_curr)[0])) / 446\n",
    "        acc_alt[j,i,1] = (len(np.where(test_true_alt1 == test_pred_curr)[0]) + len(np.where(test_true_alt2 == test_pred_curr)[0])) / 49\n",
    "\n",
    "# [[train ecog, test ecog]\n",
    "# [train pose, test pose]]\n",
    "print(acc.mean(1))\n",
    "print('')\n",
    "print(acc_alt.mean(1))"
   ]
  }
 ],
 "metadata": {
  "interpreter": {
   "hash": "b87545865e088d421062d01009c64b43fb36d810201807670df173c29066d485"
  },
  "kernelspec": {
   "display_name": "Python 3.9.7 ('crossmodal_ssl_htnet': conda)",
   "language": "python",
   "name": "python3"
  },
  "language_info": {
   "codemirror_mode": {
    "name": "ipython",
    "version": 3
   },
   "file_extension": ".py",
   "mimetype": "text/x-python",
   "name": "python",
   "nbconvert_exporter": "python",
   "pygments_lexer": "ipython3",
   "version": "3.9.7"
  },
  "orig_nbformat": 4
 },
 "nbformat": 4,
 "nbformat_minor": 2
}
