{
 "cells": [
  {
   "cell_type": "code",
   "execution_count": 34,
   "metadata": {},
   "outputs": [
    {
     "name": "stdout",
     "output_type": "stream",
     "text": [
      "./xdc_runs/center_out_sup_run16/BEIG0414g_preds.npy\n",
      "dict_keys(['train_split', 'test_split', 'true_train', 'pred_train', 'true_test', 'pred_test'])\n",
      "./xdc_runs/center_out_sup_run16/BEIG0414g_probs.npy\n",
      "dict_keys(['train_split', 'test_split', 'softmax_output_train', 'softmax_output_test'])\n",
      "10 (2, 410, 8) (2, 46, 8)\n",
      "2 modalities, 10 folds, 8 classes\n"
     ]
    }
   ],
   "source": [
    "import os\n",
    "import numpy as np\n",
    "import pandas as pd\n",
    "import matplotlib.pyplot as plt\n",
    "import xarray as xr\n",
    "from sklearn.decomposition import PCA\n",
    "\n",
    "# load data\n",
    "lp = '/data2/users/kperks/'\n",
    "sp = 'ecog_center_out/'\n",
    "input_file = 'new_data_lfp_mocap_rot.npy'\n",
    "\n",
    "data = np.load(lp+input_file, allow_pickle=True)\n",
    "data = data.item()\n",
    "ecog = data['lfp']\n",
    "pose = data['mocap']\n",
    "recording_day = data['events']\n",
    "times = data['time']\n",
    "\n",
    "labels = ecog[:,-1,0]\n",
    "assert (labels == pose[:,-1,0]).all()\n",
    "n_targets = len(np.unique(labels))\n",
    "\n",
    "# load model outputs\n",
    "rootpth = './xdc_runs/'\n",
    "dat_type = 'train' # 'train', test'\n",
    "dataset = 'center_out'\n",
    "sbjs_all = ['BEIG0414g']\n",
    "subfolders_d = {'center_out': ['center_out_sup_run16']}\n",
    "datasets = [dataset]\n",
    "\n",
    "for i, dst in enumerate(datasets):\n",
    "    subfolders = subfolders_d[dst]\n",
    "    for i, fold in enumerate(subfolders):\n",
    "        for j, sbj in enumerate(sbjs_all):\n",
    "            # load model predictions\n",
    "            fID = rootpth + fold + '/' +sbj + '_preds' + '.npy'\n",
    "            if os.path.exists(fID):\n",
    "                print(fID)\n",
    "                preds_data = np.load(fID,allow_pickle=True).item()\n",
    "            else:\n",
    "                preds_data = None\n",
    "            print(preds_data.keys())\n",
    "            \n",
    "            # load model probabilities\n",
    "            fID = rootpth + fold + '/' +sbj + '_probs' + '.npy'\n",
    "            if os.path.exists(fID):\n",
    "                print(fID)\n",
    "                probs_data = np.load(fID,allow_pickle=True).item()\n",
    "            else:\n",
    "                probs_data = None\n",
    "            print(probs_data.keys())\n",
    "\n",
    "train_inds = probs_data['train_split']\n",
    "test_inds = probs_data['test_split']\n",
    "train_true = preds_data['true_train']\n",
    "train_pred = preds_data['pred_train']\n",
    "test_true = preds_data['true_test']\n",
    "test_pred = preds_data['pred_test']\n",
    "\n",
    "train_smout = probs_data['softmax_output_train']\n",
    "test_smout = probs_data['softmax_output_test']\n",
    "print(len(train_inds), train_smout[0].shape, test_smout[0].shape)\n",
    "\n",
    "assert train_smout[0].shape[0] == test_smout[0].shape[0]\n",
    "n_modalities = train_smout[0].shape[0]\n",
    "assert len(train_inds) == len(test_inds) == len(train_smout) == len(test_smout)\n",
    "n_folds = len(train_inds)\n",
    "assert train_smout[0].shape[-1] == test_smout[0].shape[-1]\n",
    "n_cl = train_smout[0].shape[-1]\n",
    "print(n_modalities, 'modalities,', n_folds, 'folds,', n_cl, 'classes')"
   ]
  },
  {
   "cell_type": "code",
   "execution_count": 35,
   "metadata": {},
   "outputs": [
    {
     "name": "stdout",
     "output_type": "stream",
     "text": [
      "(410,) (410, 8)\n",
      "True\n",
      "49 49 51\n",
      "45 45 52\n",
      "54 54 51\n",
      "52 52 51\n",
      "63 63 52\n",
      "47 47 51\n",
      "49 49 51\n",
      "51 51 51\n"
     ]
    }
   ],
   "source": [
    "j = 1 # modality [neural, pose]\n",
    "f = 1 # fold\n",
    "curr_train_true = train_true[f][j,...]\n",
    "curr_train_pred = train_pred[f][j,...]\n",
    "curr_train_smout = train_smout[f][j,...]\n",
    "print(curr_train_true.shape, curr_train_smout.shape)\n",
    "\n",
    "print((np.argmax(curr_train_smout,axis=1) == curr_train_pred).all())\n",
    "\n",
    "for t in range(n_cl):\n",
    "    print(len(np.where(np.argmax(curr_train_smout,axis=1) == t)[0]), len(np.where(curr_train_pred == t)[0]), len(np.where(curr_train_true == t)[0]))"
   ]
  },
  {
   "cell_type": "code",
   "execution_count": 36,
   "metadata": {},
   "outputs": [
    {
     "name": "stdout",
     "output_type": "stream",
     "text": [
      "(410, 8)\n",
      "(410, 2)\n"
     ]
    },
    {
     "data": {
      "image/png": "[encoded data removed]",
      "text/plain": [
       "<Figure size 432x288 with 1 Axes>"
      ]
     },
     "metadata": {
      "needs_background": "light"
     },
     "output_type": "display_data"
    },
    {
     "data": {
      "image/png": "[encoded data removed]",
      "text/plain": [
       "<Figure size 432x288 with 1 Axes>"
      ]
     },
     "metadata": {
      "needs_background": "light"
     },
     "output_type": "display_data"
    }
   ],
   "source": [
    "# EACH FOLD\n",
    "j = 1 # modality [neural, pose]\n",
    "f = 1 # fold\n",
    "curr_train_true = train_true[f][j,...]\n",
    "curr_train_pred = train_pred[f][j,...]\n",
    "curr_train_smout = train_smout[f][j,...]\n",
    "\n",
    "X = curr_train_smout\n",
    "print(X.shape)\n",
    "pca = PCA(n_components=2).fit(X)\n",
    "pca_2d = pca.transform(X)\n",
    "print(pca_2d.shape)\n",
    "\n",
    "cl_labels = curr_train_pred # same as np.argmax(curr_train_smout,axis=1)\n",
    "plt.figure()\n",
    "for i in range(n_cl):\n",
    "    ind = np.where(cl_labels==i)\n",
    "    plt.scatter(pca_2d[ind,0], pca_2d[ind,1], label=str(i+1))\n",
    "plt.xlabel('PC1')\n",
    "plt.ylabel('PC2')\n",
    "plt.legend()\n",
    "plt.title('Pred labels')\n",
    "\n",
    "cl_labels = curr_train_true\n",
    "plt.figure()\n",
    "for i in range(n_cl):\n",
    "    ind = np.where(cl_labels==i)\n",
    "    plt.scatter(pca_2d[ind,0], pca_2d[ind,1], label=str(i+1))\n",
    "plt.xlabel('PC1')\n",
    "plt.ylabel('PC2')\n",
    "plt.legend()\n",
    "plt.title('True labels');"
   ]
  },
  {
   "cell_type": "code",
   "execution_count": 37,
   "metadata": {},
   "outputs": [
    {
     "name": "stdout",
     "output_type": "stream",
     "text": [
      "(4104, 8)\n",
      "(4104, 2)\n"
     ]
    },
    {
     "data": {
      "image/png": "[encoded data removed]",
      "text/plain": [
       "<Figure size 432x288 with 1 Axes>"
      ]
     },
     "metadata": {
      "needs_background": "light"
     },
     "output_type": "display_data"
    },
    {
     "data": {
      "image/png": "[encoded data removed]",
      "text/plain": [
       "<Figure size 432x288 with 1 Axes>"
      ]
     },
     "metadata": {
      "needs_background": "light"
     },
     "output_type": "display_data"
    }
   ],
   "source": [
    "# OVER ALL FOLDS\n",
    "j = 1 # modality [neural, pose]\n",
    "curr_train_true, curr_train_pred = [] ,[]\n",
    "for f in range(10):\n",
    "    curr_train_true = np.concatenate((curr_train_true, train_true[f][j,...]))\n",
    "    curr_train_pred = np.concatenate((curr_train_pred, train_pred[f][j,...]))\n",
    "    if f == 0:\n",
    "        curr_train_smout = train_smout[f][j,...]\n",
    "    else:\n",
    "        curr_train_smout = np.concatenate((curr_train_smout, train_smout[f][j,...]))\n",
    "    # print(curr_train_true.shape, curr_train_smout.shape)\n",
    "\n",
    "X = curr_train_smout\n",
    "print(X.shape)\n",
    "pca = PCA(n_components=2).fit(X)\n",
    "pca_2d = pca.transform(X)\n",
    "print(pca_2d.shape)\n",
    "\n",
    "cl_labels = curr_train_pred # same as np.argmax(curr_train_smout,axis=1)\n",
    "plt.figure()\n",
    "for i in range(n_cl):\n",
    "    ind = np.where(cl_labels==i)\n",
    "    plt.scatter(pca_2d[ind,0], pca_2d[ind,1], label=str(i+1))\n",
    "plt.xlabel('PC1')\n",
    "plt.ylabel('PC2')\n",
    "plt.legend()\n",
    "plt.title('Pred labels')\n",
    "\n",
    "cl_labels = curr_train_true\n",
    "plt.figure()\n",
    "for i in range(n_cl):\n",
    "    ind = np.where(cl_labels==i)\n",
    "    plt.scatter(pca_2d[ind,0], pca_2d[ind,1], label=str(i+1))\n",
    "plt.xlabel('PC1')\n",
    "plt.ylabel('PC2')\n",
    "plt.legend()\n",
    "plt.title('True labels');"
   ]
  },
  {
   "cell_type": "markdown",
   "metadata": {},
   "source": [
    "# Old Code"
   ]
  },
  {
   "cell_type": "markdown",
   "metadata": {},
   "source": [
    "### softmax input only"
   ]
  },
  {
   "cell_type": "code",
   "execution_count": null,
   "metadata": {},
   "outputs": [],
   "source": [
    "import os\n",
    "import numpy as np\n",
    "import pandas as pd\n",
    "import matplotlib.pyplot as plt\n",
    "import xarray as xr\n",
    "from scipy.optimize import linear_sum_assignment\n",
    "\n",
    "# load data\n",
    "lp = '/data2/users/kperks/'\n",
    "sp = 'ecog_center_out/'\n",
    "input_file = 'new_data_lfp_mocap.npy'\n",
    "\n",
    "data = np.load(lp+input_file, allow_pickle=True)\n",
    "data = data.item()\n",
    "ecog = data['lfp']\n",
    "pose = data['mocap']\n",
    "recording_day = data['events']\n",
    "times = data['time']\n",
    "\n",
    "labels = ecog[:,-1,0]\n",
    "assert (labels == pose[:,-1,0]).all()\n",
    "n_targets = len(np.unique(labels))\n",
    "\n",
    "# load model outputs\n",
    "rootpth = './xdc_runs/'\n",
    "dat_type = 'train' # 'train', test'\n",
    "dataset = 'center_out'\n",
    "sbjs_all = ['BEIG0414c']\n",
    "subfolders_d = {'center_out': ['center_out_sup_run13']}\n",
    "datasets = [dataset]\n",
    "\n",
    "for i, dst in enumerate(datasets):\n",
    "    subfolders = subfolders_d[dst]\n",
    "    for i, fold in enumerate(subfolders):\n",
    "        for j, sbj in enumerate(sbjs_all):\n",
    "            # load model predictions\n",
    "            fID = rootpth + fold + '/' +sbj + '_preds' + '.npy'\n",
    "            if os.path.exists(fID):\n",
    "                print(fID)\n",
    "                preds_data = np.load(fID,allow_pickle=True).item()\n",
    "            else:\n",
    "                preds_data = None\n",
    "            print(preds_data.keys())\n",
    "            \n",
    "            # load model probabilities\n",
    "            fID = rootpth + fold + '/' +sbj + '_probs' + '.npy'\n",
    "            if os.path.exists(fID):\n",
    "                print(fID)\n",
    "                probs_data = np.load(fID,allow_pickle=True).item()\n",
    "            else:\n",
    "                probs_data = None\n",
    "            print(probs_data.keys())\n",
    "\n",
    "train_inds = probs_data['train_split']\n",
    "test_inds = probs_data['test_split']\n",
    "train_true = preds_data['true_train']\n",
    "train_pred = preds_data['pred_train']\n",
    "test_true = preds_data['true_test']\n",
    "test_pred = preds_data['pred_test']\n",
    "train_prob = probs_data['prob_train']\n",
    "test_prob = probs_data['prob_test']\n",
    "print(len(train_inds), train_prob[0].shape, test_prob[0].shape)\n",
    "\n",
    "assert train_prob[0].shape[0] == test_prob[0].shape[0]\n",
    "n_modalities = train_prob[0].shape[0]\n",
    "assert len(train_inds) == len(test_inds) == len(train_prob) == len(test_prob)\n",
    "n_folds = len(train_inds)\n",
    "assert train_prob[0].shape[-1] == test_prob[0].shape[-1]\n",
    "n_cl = train_prob[0].shape[-1]\n",
    "print(n_modalities, 'modalities,', n_folds, 'folds,', n_cl, 'classes')"
   ]
  },
  {
   "cell_type": "markdown",
   "metadata": {},
   "source": [
    "### softmax input + output (diff order from preds)"
   ]
  },
  {
   "cell_type": "code",
   "execution_count": 35,
   "metadata": {},
   "outputs": [
    {
     "name": "stdout",
     "output_type": "stream",
     "text": [
      "./xdc_runs/center_out_sup_run14/BEIG0414c_preds.npy\n",
      "dict_keys(['train_split', 'test_split', 'true_train', 'pred_train', 'true_test', 'pred_test'])\n",
      "./xdc_runs/center_out_sup_run14/BEIG0414c_probs.npy\n",
      "dict_keys(['train_split', 'test_split', 'softmax_input_train', 'softmax_input_test', 'softmax_output_train', 'softmax_output_test'])\n",
      "10 (2, 410, 8) (2, 46, 8) (2, 410, 8) (2, 46, 8)\n",
      "2 modalities, 10 folds, 8 classes\n"
     ]
    }
   ],
   "source": [
    "import os\n",
    "import numpy as np\n",
    "import pandas as pd\n",
    "import matplotlib.pyplot as plt\n",
    "import xarray as xr\n",
    "from sklearn.decomposition import PCA\n",
    "\n",
    "# load data\n",
    "lp = '/data2/users/kperks/'\n",
    "sp = 'ecog_center_out/'\n",
    "input_file = 'new_data_lfp_mocap.npy'\n",
    "\n",
    "data = np.load(lp+input_file, allow_pickle=True)\n",
    "data = data.item()\n",
    "ecog = data['lfp']\n",
    "pose = data['mocap']\n",
    "recording_day = data['events']\n",
    "times = data['time']\n",
    "\n",
    "labels = ecog[:,-1,0]\n",
    "assert (labels == pose[:,-1,0]).all()\n",
    "n_targets = len(np.unique(labels))\n",
    "\n",
    "# load model outputs\n",
    "rootpth = './xdc_runs/'\n",
    "dat_type = 'train' # 'train', test'\n",
    "dataset = 'center_out'\n",
    "sbjs_all = ['BEIG0414c']\n",
    "subfolders_d = {'center_out': ['center_out_sup_run14']}\n",
    "datasets = [dataset]\n",
    "\n",
    "for i, dst in enumerate(datasets):\n",
    "    subfolders = subfolders_d[dst]\n",
    "    for i, fold in enumerate(subfolders):\n",
    "        for j, sbj in enumerate(sbjs_all):\n",
    "            # load model predictions\n",
    "            fID = rootpth + fold + '/' +sbj + '_preds' + '.npy'\n",
    "            if os.path.exists(fID):\n",
    "                print(fID)\n",
    "                preds_data = np.load(fID,allow_pickle=True).item()\n",
    "            else:\n",
    "                preds_data = None\n",
    "            print(preds_data.keys())\n",
    "            \n",
    "            # load model probabilities\n",
    "            fID = rootpth + fold + '/' +sbj + '_probs' + '.npy'\n",
    "            if os.path.exists(fID):\n",
    "                print(fID)\n",
    "                probs_data = np.load(fID,allow_pickle=True).item()\n",
    "            else:\n",
    "                probs_data = None\n",
    "            print(probs_data.keys())\n",
    "\n",
    "train_inds = probs_data['train_split']\n",
    "test_inds = probs_data['test_split']\n",
    "train_true = preds_data['true_train']\n",
    "train_pred = preds_data['pred_train']\n",
    "test_true = preds_data['true_test']\n",
    "test_pred = preds_data['pred_test']\n",
    "\n",
    "train_smin = probs_data['softmax_input_train']\n",
    "test_smin = probs_data['softmax_input_test']\n",
    "train_smout = probs_data['softmax_output_train']\n",
    "test_smout = probs_data['softmax_output_test']\n",
    "print(len(train_inds), train_smin[0].shape, test_smin[0].shape, train_smout[0].shape, test_smout[0].shape)\n",
    "\n",
    "assert train_smin[0].shape[0] == test_smin[0].shape[0]\n",
    "n_modalities = train_smin[0].shape[0]\n",
    "assert len(train_inds) == len(test_inds) == len(train_smin) == len(test_smin)\n",
    "n_folds = len(train_inds)\n",
    "assert train_smin[0].shape[-1] == test_smin[0].shape[-1]\n",
    "n_cl = train_smin[0].shape[-1]\n",
    "print(n_modalities, 'modalities,', n_folds, 'folds,', n_cl, 'classes')"
   ]
  }
 ],
 "metadata": {
  "kernelspec": {
   "display_name": "Python 3.9.7 ('crossmodal_ssl_htnet': conda)",
   "language": "python",
   "name": "python3"
  },
  "language_info": {
   "codemirror_mode": {
    "name": "ipython",
    "version": 3
   },
   "file_extension": ".py",
   "mimetype": "text/x-python",
   "name": "python",
   "nbconvert_exporter": "python",
   "pygments_lexer": "ipython3",
   "version": "3.9.7"
  },
  "orig_nbformat": 4,
  "vscode": {
   "interpreter": {
    "hash": "b87545865e088d421062d01009c64b43fb36d810201807670df173c29066d485"
   }
  }
 },
 "nbformat": 4,
 "nbformat_minor": 2
}
