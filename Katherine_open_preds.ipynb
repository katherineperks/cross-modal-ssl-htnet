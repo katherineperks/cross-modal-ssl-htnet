{
 "cells": [
  {
   "cell_type": "code",
   "execution_count": 2,
   "metadata": {},
   "outputs": [
    {
     "name": "stdout",
     "output_type": "stream",
     "text": [
      "./xdc_runs/center_out_sup_run11/BEIG0414c_preds.npy\n",
      "dict_keys(['train_split', 'test_split', 'true_train', 'pred_train', 'true_test', 'pred_test'])\n",
      "10 (2, 410) (2, 46)\n",
      "2 modalities, 10 folds\n"
     ]
    }
   ],
   "source": [
    "import os\n",
    "import numpy as np\n",
    "import pandas as pd\n",
    "import matplotlib.pyplot as plt\n",
    "import xarray as xr\n",
    "from scipy.optimize import linear_sum_assignment\n",
    "\n",
    "# load data\n",
    "lp = '/data2/users/kperks/'\n",
    "sp = 'ecog_center_out/'\n",
    "input_file = 'new_data_lfp_mocap.npy'\n",
    "\n",
    "data = np.load(lp+input_file, allow_pickle=True)\n",
    "data = data.item()\n",
    "ecog = data['lfp']\n",
    "pose = data['mocap']\n",
    "recording_day = data['events']\n",
    "times = data['time']\n",
    "\n",
    "labels = ecog[:,-1,0]\n",
    "assert (labels == pose[:,-1,0]).all()\n",
    "n_targets = len(np.unique(labels))\n",
    "\n",
    "# load model predictions\n",
    "rootpth = './xdc_runs/'\n",
    "dat_type = 'train' # 'train', test'\n",
    "dataset = 'center_out'\n",
    "sbjs_all = ['BEIG0414c']\n",
    "subfolders_d = {'center_out': ['center_out_sup_run11']}\n",
    "datasets = [dataset]\n",
    "\n",
    "for i, dst in enumerate(datasets):\n",
    "    subfolders = subfolders_d[dst]\n",
    "    for i, fold in enumerate(subfolders):\n",
    "        for j, sbj in enumerate(sbjs_all):\n",
    "            fID = rootpth + fold + '/' +sbj + '_preds' + '.npy'\n",
    "            if os.path.exists(fID):\n",
    "                print(fID)\n",
    "                preds_data = np.load(fID,allow_pickle=True).item()\n",
    "            else:\n",
    "                preds_data = None\n",
    "            print(preds_data.keys())\n",
    "\n",
    "train_inds = preds_data['train_split']\n",
    "test_inds = preds_data['test_split']\n",
    "train_true = preds_data['true_train']\n",
    "train_pred = preds_data['pred_train']\n",
    "test_true = preds_data['true_test']\n",
    "test_pred = preds_data['pred_test']\n",
    "print(len(train_inds), train_true[0].shape, test_true[0].shape)\n",
    "\n",
    "assert train_true[0].shape[0] == test_true[0].shape[0]\n",
    "n_modalities = train_true[0].shape[0]\n",
    "assert len(train_inds) == len(test_inds) == len(train_true) == len(test_true)\n",
    "n_folds = len(train_inds)\n",
    "print(n_modalities, 'modalities,', n_folds, 'folds')"
   ]
  },
  {
   "cell_type": "code",
   "execution_count": 12,
   "metadata": {},
   "outputs": [
    {
     "name": "stdout",
     "output_type": "stream",
     "text": [
      "pred: [0 1 2 3 4 5 6 7] true: [0 1 2 3 4 5 6 7]\n",
      "pred: [0 1 2 3 4 5 6 7] true: [0 1 2 3 4 5 6 7]\n",
      "pred: [0 1 2 3 4 5 6 7] true: [0 1 2 3 4 5 6 7]\n",
      "pred: [0 1 2 3 4 5 6 7] true: [0 1 2 3 4 5 6 7]\n",
      "pred: [0 1 2 3 4 5 6 7] true: [0 1 2 3 4 5 6 7]\n",
      "pred: [0 1 2 3 4 5 6 7] true: [0 1 2 3 4 5 6 7]\n",
      "pred: [0 1 2 3 4 5 6 7] true: [0 1 2 3 4 5 6 7]\n",
      "pred: [0 1 2 3 4 5 6 7] true: [0 1 2 3 4 5 6 7]\n",
      "pred: [0 1 2 3 4 5 6 7] true: [0 1 2 3 4 5 6 7]\n",
      "pred: [0 1 2 3 4 5 6 7] true: [0 1 2 3 4 5 6 7]\n",
      "[[0.93688358 0.         0.         0.         0.03750245 0.\n",
      "  0.         0.        ]\n",
      " [0.         0.74616557 0.         0.03961708 0.         0.12319032\n",
      "  0.         0.06943023]\n",
      " [0.         0.         0.86023209 0.         0.         0.\n",
      "  0.14620107 0.        ]\n",
      " [0.         0.1153237  0.00192308 0.9586168  0.         0.15219503\n",
      "  0.         0.00792157]\n",
      " [0.07935189 0.         0.         0.         0.97869382 0.\n",
      "  0.         0.        ]\n",
      " [0.         0.0299735  0.         0.         0.         0.25750691\n",
      "  0.         0.02789497]\n",
      " [0.         0.         0.15396728 0.         0.         0.\n",
      "  0.8679952  0.        ]\n",
      " [0.         0.12473349 0.         0.01788546 0.         0.48330711\n",
      "  0.00192308 0.91094949]]\n"
     ]
    }
   ],
   "source": [
    "# get matrix of true vs. predicted labels\n",
    "w_allfolds = np.zeros((n_folds, n_targets, n_targets)) # fold x pred x true\n",
    "\n",
    "j = 1 # modality [neural, pose]\n",
    "for i in range(n_folds):\n",
    "    train_true_curr = train_true[i][j]\n",
    "    train_pred_curr = train_pred[i][j]\n",
    "    test_true_curr = test_true[i][j]\n",
    "    test_pred_curr = test_pred[i][j]\n",
    "    \n",
    "    ind, D = None, None\n",
    "    if dat_type == 'train':       \n",
    "        y_true = np.asarray(train_true_curr)\n",
    "        y_pred = np.asarray(train_pred_curr) \n",
    "        y_true = y_true.astype(np.int64)\n",
    "        y_pred = y_pred.astype(np.int64)\n",
    "    elif dat_type == 'test':\n",
    "        # get train mapping \n",
    "        y_true = np.asarray(train_true_curr)\n",
    "        y_pred = np.asarray(train_pred_curr)\n",
    "        y_true = y_true.astype(np.int64)\n",
    "        y_pred = y_pred.astype(np.int64)\n",
    "        assert y_pred.size == y_true.size\n",
    "        if not D:\n",
    "            D = max(y_pred.max(), y_true.max()) + 1\n",
    "            D = int(D)\n",
    "        w = np.zeros((D, D), dtype=np.int64)\n",
    "        for t in range(y_pred.size):\n",
    "            w[y_pred[t], y_true[t]] += 1\n",
    "        if not ind:\n",
    "            ind = linear_sum_assignment(w.max() - w)\n",
    "\n",
    "        # use train mapping to get test accuracy\n",
    "        y_true = np.asarray(test_true_curr)\n",
    "        y_pred = np.asarray(test_pred_curr)\n",
    "        y_true = y_true.astype(np.int64)\n",
    "        y_pred = y_pred.astype(np.int64)\n",
    "    \n",
    "    assert y_pred.size == y_true.size\n",
    "    if not D:\n",
    "        D = max(y_pred.max(), y_true.max()) + 1\n",
    "        D = int(D)\n",
    "    w = np.zeros((D, D), dtype=np.int64)\n",
    "    for t in range(y_pred.size):\n",
    "        w[y_pred[t], y_true[t]] += 1\n",
    "    if not ind:\n",
    "        ind = linear_sum_assignment(w.max() - w)\n",
    "    print('pred:',ind[0],'true:',ind[1])\n",
    "\n",
    "    acc = w[ind[0], ind[1]].sum()* 1.0 / y_pred.size\n",
    "    w_allfolds[i] = w/w.max() # proportion per fold\n",
    "    # print(acc)\n",
    "    # print(w)\n",
    "    # print(ind)\n",
    "    # print(w[ind[0], ind[1]])\n",
    "\n",
    "w_avg = w_allfolds.mean(0) # average proportion over folds\n",
    "print(w_avg)"
   ]
  },
  {
   "cell_type": "code",
   "execution_count": 13,
   "metadata": {},
   "outputs": [
    {
     "data": {
      "image/png": "[encoded data removed]",
      "text/plain": [
       "<Figure size 720x576 with 2 Axes>"
      ]
     },
     "metadata": {
      "needs_background": "light"
     },
     "output_type": "display_data"
    }
   ],
   "source": [
    "# plot true vs. predicted labels\n",
    "import seaborn as sns\n",
    "sz = 24\n",
    "\n",
    "plt.figure(figsize=(10,8))\n",
    "ax = sns.heatmap(w_avg, vmin=0, vmax=1, cmap='PRGn')\n",
    "plt.xlabel('True', fontsize=44)\n",
    "plt.ylabel('Predicted', fontsize=44)\n",
    "plt.xticks(np.arange(n_targets)+0.5, range(1,9), fontsize=sz)\n",
    "plt.yticks(np.arange(n_targets)+0.5, range(1,9), fontsize=sz, rotation=0);\n",
    "cbar = ax.collections[0].colorbar\n",
    "cbar.ax.tick_params(labelsize=sz)\n",
    "# plt.savefig('xdc_runs/figs/'+subfolders[0][11:]+'_'+dat_type+'_pred_heatmap.png')"
   ]
  }
 ],
 "metadata": {
  "kernelspec": {
   "display_name": "Python 3.9.7 ('crossmodal_ssl_htnet': conda)",
   "language": "python",
   "name": "python3"
  },
  "language_info": {
   "codemirror_mode": {
    "name": "ipython",
    "version": 3
   },
   "file_extension": ".py",
   "mimetype": "text/x-python",
   "name": "python",
   "nbconvert_exporter": "python",
   "pygments_lexer": "ipython3",
   "version": "3.9.7"
  },
  "orig_nbformat": 4,
  "vscode": {
   "interpreter": {
    "hash": "b87545865e088d421062d01009c64b43fb36d810201807670df173c29066d485"
   }
  }
 },
 "nbformat": 4,
 "nbformat_minor": 2
}
